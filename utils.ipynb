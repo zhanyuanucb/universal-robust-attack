{
 "cells": [
  {
   "cell_type": "markdown",
   "metadata": {},
   "source": [
    "**Filter out targeted class dataset**"
   ]
  },
  {
   "cell_type": "code",
   "execution_count": null,
   "metadata": {},
   "outputs": [],
   "source": [
    "trainset = torchvision.datasets.MNIST(\"/data/mnist\", train=True, transform=transforms.ToTensor())\n",
    "testset = torchvision.datasets.MNIST(\"/data/mnist\", train=False, transform=transforms.ToTensor())\n",
    "trainloader = DataLoader(trainset, batch_size=1, num_workers=10)\n",
    "testloader = DataLoader(testset, batch_size=1, num_workers=10)"
   ]
  },
  {
   "cell_type": "code",
   "execution_count": null,
   "metadata": {},
   "outputs": [],
   "source": [
    "images_train, labels_train = [], []\n",
    "for images, labels in trainloader:\n",
    "    if labels.item() == 8:\n",
    "        images_train.append(images)\n",
    "        labels_train.append(labels)\n",
    "train_pt = (torch.cat(images_train), torch.cat(labels_train))\n",
    "torch.save(train_pt, \"./data/training.pt\")"
   ]
  },
  {
   "cell_type": "code",
   "execution_count": null,
   "metadata": {},
   "outputs": [],
   "source": [
    "images_test, labels_test = [], []\n",
    "for images, labels in testloader:\n",
    "    if labels.item() == 8:\n",
    "        images_test.append(images)\n",
    "        labels_test.append(labels)\n",
    "test_pt = (torch.cat(images_test), torch.cat(labels_test))\n",
    "torch.save(test_pt, \"./data/test.pt\")"
   ]
  },
  {
   "cell_type": "markdown",
   "metadata": {},
   "source": [
    "**Build balanced dataset**"
   ]
  },
  {
   "cell_type": "code",
   "execution_count": null,
   "metadata": {},
   "outputs": [],
   "source": [
    "import torchvision\n",
    "from torchvision.transforms import transforms\n",
    "trainset = torchvision.datasets.MNIST(\"/data/mnist\", train=True, transform=transforms.ToTensor())\n",
    "#subset_idices = np.random.choice(range(len(trainset)), 5000, replace=False)\n",
    "trainloader = DataLoader(trainset, batch_size=1, num_workers=10)"
   ]
  },
  {
   "cell_type": "code",
   "execution_count": null,
   "metadata": {},
   "outputs": [],
   "source": [
    "counter = [0 for _ in range(10)]\n",
    "collection = [[] for _ in range(10)]\n",
    "size = 500\n",
    "for image, label in trainloader:\n",
    "    idx = label.item()\n",
    "    if counter[idx] < size:\n",
    "        collection[idx].append(image)\n",
    "        counter[idx] += 1\n",
    "    if all([x == 500 for x in collection]):\n",
    "        break\n",
    "counter"
   ]
  },
  {
   "cell_type": "code",
   "execution_count": null,
   "metadata": {},
   "outputs": [],
   "source": [
    "data, labels = [], []\n",
    "for label in range(10):\n",
    "    data.append(torch.cat(collection[label]))\n",
    "    labels.append(torch.Tensor([label]).to(torch.int64).repeat(500))"
   ]
  },
  {
   "cell_type": "code",
   "execution_count": null,
   "metadata": {},
   "outputs": [],
   "source": [
    "data, labels = torch.cat(data), torch.cat(labels)"
   ]
  },
  {
   "cell_type": "code",
   "execution_count": null,
   "metadata": {},
   "outputs": [],
   "source": [
    "data.shape, labels.shape"
   ]
  },
  {
   "cell_type": "code",
   "execution_count": null,
   "metadata": {},
   "outputs": [],
   "source": [
    "out_dir = \"./data/mnist_balanced_subset\"\n",
    "torch.save((data, labels), out_dir)"
   ]
  },
  {
   "cell_type": "markdown",
   "metadata": {},
   "source": [
    "**Compare x and x_t**"
   ]
  },
  {
   "cell_type": "code",
   "execution_count": null,
   "metadata": {},
   "outputs": [],
   "source": [
    "N = len(T)\n",
    "demo_steps = 5\n",
    "for i, (image, label) in enumerate(trainloader, 1):\n",
    "    xt_list, label_list = [], [\"Original\", \"Gaussian\", \"Rotate\", \"Contrast\", \"Brightness\"]\n",
    "    fig = plt.figure(figsize=(8, 4))\n",
    "    ax = plt.subplot(2, N+1, 1)\n",
    "    ax.set_title(label_list[0])\n",
    "    plt.imshow(image[0][0].numpy(), cmap=\"gray\")\n",
    "    plt.axis(\"off\")\n",
    "    for t in T:\n",
    "        xt_list.append(t(image))\n",
    "    for c in range(2, N+2):\n",
    "        ax = plt.subplot(2, N+1, c)\n",
    "        ax.set_title(label_list[c-1])\n",
    "        plt.imshow(xt_list[c-2][0][0].numpy(), cmap=\"gray\")\n",
    "        plt.axis(\"off\")\n",
    "        ax = plt.subplot(2, N+1, c+N+1)\n",
    "        ax.set_title(f\"Diff: {label_list[c-1]}\")\n",
    "        plt.imshow(xt_list[c-2][0][0].numpy() - image[0][0].numpy(), cmap=\"gray\")\n",
    "        plt.axis(\"off\")\n",
    "    plt.show()\n",
    "    print(\"=======================================================\")\n",
    "    if i == demo_steps:\n",
    "        break"
   ]
  }
 ],
 "metadata": {
  "kernelspec": {
   "display_name": "Python 3",
   "language": "python",
   "name": "python3"
  },
  "language_info": {
   "codemirror_mode": {
    "name": "ipython",
    "version": 3
   },
   "file_extension": ".py",
   "mimetype": "text/x-python",
   "name": "python",
   "nbconvert_exporter": "python",
   "pygments_lexer": "ipython3",
   "version": "3.6.5"
  }
 },
 "nbformat": 4,
 "nbformat_minor": 4
}
