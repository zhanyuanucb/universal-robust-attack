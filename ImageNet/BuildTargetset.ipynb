{
 "cells": [
  {
   "cell_type": "code",
   "execution_count": 1,
   "metadata": {},
   "outputs": [
    {
     "name": "stdout",
     "output_type": "stream",
     "text": [
      "GeForce GTX 1080 Ti\n"
     ]
    }
   ],
   "source": [
    "import sys\n",
    "sys.path.append('/mydata/universal-robust-attack/')\n",
    "import os.path as osp\n",
    "import pickle\n",
    "import matplotlib.pyplot as plt\n",
    "import numpy as np\n",
    "import torch\n",
    "from torch.utils.data import DataLoader\n",
    "import torch.nn as nn\n",
    "import torchvision\n",
    "import torchvision.datasets as tvdatasets\n",
    "from torchvision.transforms import transforms\n",
    "\n",
    "import modelzoo.zoo as zoo\n",
    "import datasets\n",
    "import config as cfg\n",
    "\n",
    "use_cuda = torch.cuda.is_available()\n",
    "device = torch.device(\"cuda:1\" if use_cuda else \"cpu\")\n",
    "if use_cuda:\n",
    "    print(torch.cuda.get_device_name(0))"
   ]
  },
  {
   "cell_type": "code",
   "execution_count": 2,
   "metadata": {},
   "outputs": [],
   "source": [
    "dataset_name = \"ImageNet1k\"\n",
    "modelfamily = datasets.dataset_to_modelfamily[dataset_name]\n",
    "dataset = datasets.__dict__[dataset_name]"
   ]
  },
  {
   "cell_type": "code",
   "execution_count": 3,
   "metadata": {},
   "outputs": [],
   "source": [
    "idx2name = {403:\"aircraft_carrier\",\n",
    "            407:\"ambulance\",\n",
    "            466:\"bullet_train\",\n",
    "            764:\"rifle\",\n",
    "            779:\"school_bus\"}\n",
    "\n",
    "candidates = [403, 407, 466, 764, 779]"
   ]
  },
  {
   "cell_type": "code",
   "execution_count": 4,
   "metadata": {},
   "outputs": [
    {
     "name": "stdout",
     "output_type": "stream",
     "text": [
      "=> done loading ImageNet1k (train) with 1024934 examples\n",
      "=> done loading ImageNet1k (test) with 256233 examples\n"
     ]
    }
   ],
   "source": [
    "transform = transforms.Compose([\n",
    "    transforms.Resize(256),\n",
    "    transforms.CenterCrop(224),\n",
    "    transforms.ToTensor()\n",
    "])\n",
    "trainset = dataset(train=True, transform=transform)\n",
    "trainloader = DataLoader(trainset, batch_size=1, num_workers=10)\n",
    "testset = dataset(train=False, transform=transform)\n",
    "testloader = DataLoader(testset, batch_size=1, num_workers=10)"
   ]
  },
  {
   "cell_type": "code",
   "execution_count": 5,
   "metadata": {},
   "outputs": [],
   "source": [
    "collections = {target:{\"data\":[], \"targets\":[]} for target in candidates}\n",
    "for image, label in testloader:\n",
    "    if label.item() in candidates:\n",
    "        collections[label.item()][\"data\"].append(image.clone())\n",
    "        collections[label.item()][\"targets\"].append(label.clone())"
   ]
  },
  {
   "cell_type": "code",
   "execution_count": 6,
   "metadata": {},
   "outputs": [
    {
     "name": "stdout",
     "output_type": "stream",
     "text": [
      "Save to ./data/aircraft_carrier_val.pt (256 samples).\n",
      "Save to ./data/ambulance_val.pt (273 samples).\n",
      "Save to ./data/bullet_train_val.pt (281 samples).\n",
      "Save to ./data/rifle_val.pt (239 samples).\n",
      "Save to ./data/school_bus_val.pt (248 samples).\n"
     ]
    }
   ],
   "source": [
    "for target, class_set in collections.items():\n",
    "    class_name = idx2name[target]\n",
    "    data, targets = torch.cat(class_set[\"data\"]), torch.cat(class_set[\"targets\"]) \n",
    "    torch.save((data, targets), f\"./data/{class_name}_val.pt\")\n",
    "    print(f\"Save to ./data/{class_name}_val.pt ({data.size(0)} samples).\")"
   ]
  },
  {
   "cell_type": "code",
   "execution_count": 7,
   "metadata": {},
   "outputs": [
    {
     "name": "stderr",
     "output_type": "stream",
     "text": [
      "/home/user/miniconda/envs/py36/lib/python3.6/site-packages/PIL/TiffImagePlugin.py:788: UserWarning: Corrupt EXIF data.  Expecting to read 4 bytes but only got 0. \n",
      "  warnings.warn(str(msg))\n"
     ]
    }
   ],
   "source": [
    "collections = {target:{\"data\":[], \"targets\":[]} for target in candidates}\n",
    "for image, label in trainloader:\n",
    "    if label.item() in candidates:\n",
    "        collections[label.item()][\"data\"].append(image.clone())\n",
    "        collections[label.item()][\"targets\"].append(label.clone())"
   ]
  },
  {
   "cell_type": "code",
   "execution_count": 8,
   "metadata": {},
   "outputs": [
    {
     "name": "stdout",
     "output_type": "stream",
     "text": [
      "Save to ./data/aircraft_carrier_train.pt (1044 samples).\n",
      "Save to ./data/ambulance_train.pt (1027 samples).\n",
      "Save to ./data/bullet_train_train.pt (1019 samples).\n",
      "Save to ./data/rifle_train.pt (1061 samples).\n",
      "Save to ./data/school_bus_train.pt (1052 samples).\n"
     ]
    }
   ],
   "source": [
    "for target, class_set in collections.items():\n",
    "    class_name = idx2name[target]\n",
    "    data, targets = torch.cat(class_set[\"data\"]), torch.cat(class_set[\"targets\"]) \n",
    "    torch.save((data, targets), f\"./data/{class_name}_train.pt\")\n",
    "    print(f\"Save to ./data/{class_name}_train.pt ({data.size(0)} samples).\")"
   ]
  }
 ],
 "metadata": {
  "kernelspec": {
   "display_name": "Python 3",
   "language": "python",
   "name": "python3"
  },
  "language_info": {
   "codemirror_mode": {
    "name": "ipython",
    "version": 3
   },
   "file_extension": ".py",
   "mimetype": "text/x-python",
   "name": "python",
   "nbconvert_exporter": "python",
   "pygments_lexer": "ipython3",
   "version": "3.6.5"
  }
 },
 "nbformat": 4,
 "nbformat_minor": 4
}
